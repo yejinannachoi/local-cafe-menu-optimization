{
 "cells": [
  {
   "cell_type": "markdown",
   "metadata": {},
   "source": [
    "탐색적 데이터 분석 시각화\n",
    "-"
   ]
  },
  {
   "cell_type": "code",
   "execution_count": 1,
   "metadata": {},
   "outputs": [],
   "source": [
    "# 라이브러리 가져오기\n",
    "import pandas as pd\n",
    "import matplotlib.pyplot as plt\n",
    "import koreanize_matplotlib \n",
    "\n",
    "%matplotlib inline"
   ]
  },
  {
   "cell_type": "code",
   "execution_count": 7,
   "metadata": {},
   "outputs": [],
   "source": [
    "# 판매 데이터 CSV 파일을 판다스 DataFrame으로 읽기\n",
    "temperature_df = pd.read_csv('/Users/yejinchoi/MenuOptimization/temperature_by_season_kor.csv')\n",
    "black_tea_category_df = pd.read_csv('/Users/yejinchoi/MenuOptimization/black_tea_by_category_kor.csv')\n",
    "position_df = pd.read_csv('/Users/yejinchoi/MenuOptimization/position_sales_kor.csv')"
   ]
  },
  {
   "cell_type": "markdown",
   "metadata": {},
   "source": [
    "---"
   ]
  },
  {
   "cell_type": "markdown",
   "metadata": {},
   "source": [
    "### 1. 계절과 음료의 온도별 판매량 분석"
   ]
  },
  {
   "cell_type": "code",
   "execution_count": 8,
   "metadata": {},
   "outputs": [
    {
     "data": {
      "text/html": [
       "<div>\n",
       "<style scoped>\n",
       "    .dataframe tbody tr th:only-of-type {\n",
       "        vertical-align: middle;\n",
       "    }\n",
       "\n",
       "    .dataframe tbody tr th {\n",
       "        vertical-align: top;\n",
       "    }\n",
       "\n",
       "    .dataframe thead th {\n",
       "        text-align: right;\n",
       "    }\n",
       "</style>\n",
       "<table border=\"1\" class=\"dataframe\">\n",
       "  <thead>\n",
       "    <tr style=\"text-align: right;\">\n",
       "      <th></th>\n",
       "      <th>계절</th>\n",
       "      <th>HOT</th>\n",
       "      <th>COLD</th>\n",
       "    </tr>\n",
       "  </thead>\n",
       "  <tbody>\n",
       "    <tr>\n",
       "      <th>0</th>\n",
       "      <td>봄</td>\n",
       "      <td>6.01</td>\n",
       "      <td>11.05</td>\n",
       "    </tr>\n",
       "    <tr>\n",
       "      <th>1</th>\n",
       "      <td>여름</td>\n",
       "      <td>3.75</td>\n",
       "      <td>19.59</td>\n",
       "    </tr>\n",
       "    <tr>\n",
       "      <th>2</th>\n",
       "      <td>가을</td>\n",
       "      <td>5.93</td>\n",
       "      <td>15.39</td>\n",
       "    </tr>\n",
       "    <tr>\n",
       "      <th>3</th>\n",
       "      <td>겨울</td>\n",
       "      <td>7.98</td>\n",
       "      <td>9.64</td>\n",
       "    </tr>\n",
       "  </tbody>\n",
       "</table>\n",
       "</div>"
      ],
      "text/plain": [
       "   계절   HOT   COLD\n",
       "0   봄  6.01  11.05\n",
       "1  여름  3.75  19.59\n",
       "2  가을  5.93  15.39\n",
       "3  겨울  7.98   9.64"
      ]
     },
     "execution_count": 8,
     "metadata": {},
     "output_type": "execute_result"
    }
   ],
   "source": [
    "temperature_df"
   ]
  },
  {
   "cell_type": "code",
   "execution_count": 31,
   "metadata": {},
   "outputs": [
    {
     "data": {
      "image/png": "[encoded data removed]",
      "text/plain": [
       "<Figure size 640x480 with 1 Axes>"
      ]
     },
     "metadata": {},
     "output_type": "display_data"
    }
   ],
   "source": [
    "# 계절 및 음료의 온도별 판매량을 시각화하기 위한 그룹 막대 그래프 생성\n",
    "temperature_df.plot(x='계절',\n",
    "                    kind='bar',\n",
    "                    stacked=False,\n",
    "                    title='계절과 음료의 온도별 총판매량',  # 제목 설정\n",
    "                    color=('tab:orange','tab:blue'),  # 색상 설정\n",
    "                    xlabel='계절',  # x축 레이블 설정\n",
    "                    ylabel='총판매량 (정규화)'  # y축 레이블 설정\n",
    "                    )\n",
    "\n",
    "# x축 레이블 회전하기 (수평)\n",
    "plt.xticks(rotation=0)\n",
    "\n",
    "# 그래프 표시\n",
    "plt.show()"
   ]
  },
  {
   "cell_type": "markdown",
   "metadata": {},
   "source": [
    "---"
   ]
  },
  {
   "cell_type": "markdown",
   "metadata": {},
   "source": [
    "### 2. 홍차 관련 제품 여부와 판매량 분석"
   ]
  },
  {
   "cell_type": "code",
   "execution_count": 13,
   "metadata": {},
   "outputs": [
    {
     "data": {
      "text/html": [
       "<div>\n",
       "<style scoped>\n",
       "    .dataframe tbody tr th:only-of-type {\n",
       "        vertical-align: middle;\n",
       "    }\n",
       "\n",
       "    .dataframe tbody tr th {\n",
       "        vertical-align: top;\n",
       "    }\n",
       "\n",
       "    .dataframe thead th {\n",
       "        text-align: right;\n",
       "    }\n",
       "</style>\n",
       "<table border=\"1\" class=\"dataframe\">\n",
       "  <thead>\n",
       "    <tr style=\"text-align: right;\">\n",
       "      <th></th>\n",
       "      <th>조정된 카테고리</th>\n",
       "      <th>홍차 제품 판매량</th>\n",
       "      <th>비홍차 제품 판매량</th>\n",
       "    </tr>\n",
       "  </thead>\n",
       "  <tbody>\n",
       "    <tr>\n",
       "      <th>0</th>\n",
       "      <td>음료</td>\n",
       "      <td>0.43</td>\n",
       "      <td>0.71</td>\n",
       "    </tr>\n",
       "    <tr>\n",
       "      <th>1</th>\n",
       "      <td>디저트</td>\n",
       "      <td>0.12</td>\n",
       "      <td>1.10</td>\n",
       "    </tr>\n",
       "  </tbody>\n",
       "</table>\n",
       "</div>"
      ],
      "text/plain": [
       "  조정된 카테고리  홍차 제품 판매량  비홍차 제품 판매량\n",
       "0       음료       0.43        0.71\n",
       "1      디저트       0.12        1.10"
      ]
     },
     "execution_count": 13,
     "metadata": {},
     "output_type": "execute_result"
    }
   ],
   "source": [
    "black_tea_category_df"
   ]
  },
  {
   "cell_type": "code",
   "execution_count": 30,
   "metadata": {},
   "outputs": [
    {
     "data": {
      "image/png": "[encoded data removed]",
      "text/plain": [
       "<Figure size 640x480 with 1 Axes>"
      ]
     },
     "metadata": {},
     "output_type": "display_data"
    }
   ],
   "source": [
    "# 컬럼 이름 변경\n",
    "black_tea_category_df.rename(columns={'홍차 제품 판매량': '홍차 제품', '비홍차 제품 판매량': '비홍차 제품'}, inplace=True)\n",
    "\n",
    "# 카테고리 및 계절별 판매량을 시각화하기 위한 그룹 막대 그래프 생성\n",
    "black_tea_category_df.plot(x='조정된 카테고리',\n",
    "                           kind='bar',\n",
    "                           stacked=False,\n",
    "                           title='카테고리별 홍차 관련 제품 여부와 평균 판매량',  # 제목 설정\n",
    "                           color=('tan','gray'),  # 색상 설정\n",
    "                           xlabel='카테고리',  # x축 레이블 설정\n",
    "                           ylabel='평균 판매량 (정규화)'  # y축 레이블 설정\n",
    "                           )\n",
    "\n",
    "# x축 레이블 회전하기 (수평)\n",
    "plt.xticks(rotation=0)\n",
    "\n",
    "# 그래프 표시\n",
    "plt.show()"
   ]
  },
  {
   "cell_type": "markdown",
   "metadata": {},
   "source": [
    "---"
   ]
  },
  {
   "cell_type": "markdown",
   "metadata": {},
   "source": [
    "### 3. 메뉴판 내 위치와 판매량 분석"
   ]
  },
  {
   "cell_type": "code",
   "execution_count": 20,
   "metadata": {},
   "outputs": [
    {
     "data": {
      "text/html": [
       "<div>\n",
       "<style scoped>\n",
       "    .dataframe tbody tr th:only-of-type {\n",
       "        vertical-align: middle;\n",
       "    }\n",
       "\n",
       "    .dataframe tbody tr th {\n",
       "        vertical-align: top;\n",
       "    }\n",
       "\n",
       "    .dataframe thead th {\n",
       "        text-align: right;\n",
       "    }\n",
       "</style>\n",
       "<table border=\"1\" class=\"dataframe\">\n",
       "  <thead>\n",
       "    <tr style=\"text-align: right;\">\n",
       "      <th></th>\n",
       "      <th>카테고리</th>\n",
       "      <th>타겟 제품 판매량</th>\n",
       "      <th>일반 제품 판매량</th>\n",
       "    </tr>\n",
       "  </thead>\n",
       "  <tbody>\n",
       "    <tr>\n",
       "      <th>0</th>\n",
       "      <td>밀크티</td>\n",
       "      <td>4.76</td>\n",
       "      <td>1.24</td>\n",
       "    </tr>\n",
       "    <tr>\n",
       "      <th>1</th>\n",
       "      <td>커피</td>\n",
       "      <td>5.02</td>\n",
       "      <td>0.55</td>\n",
       "    </tr>\n",
       "    <tr>\n",
       "      <th>2</th>\n",
       "      <td>디저트</td>\n",
       "      <td>1.33</td>\n",
       "      <td>1.20</td>\n",
       "    </tr>\n",
       "    <tr>\n",
       "      <th>3</th>\n",
       "      <td>음료</td>\n",
       "      <td>0.83</td>\n",
       "      <td>0.45</td>\n",
       "    </tr>\n",
       "    <tr>\n",
       "      <th>4</th>\n",
       "      <td>차</td>\n",
       "      <td>0.48</td>\n",
       "      <td>0.41</td>\n",
       "    </tr>\n",
       "    <tr>\n",
       "      <th>5</th>\n",
       "      <td>홍차</td>\n",
       "      <td>1.00</td>\n",
       "      <td>0.34</td>\n",
       "    </tr>\n",
       "  </tbody>\n",
       "</table>\n",
       "</div>"
      ],
      "text/plain": [
       "  카테고리  타겟 제품 판매량  일반 제품 판매량\n",
       "0  밀크티       4.76       1.24\n",
       "1   커피       5.02       0.55\n",
       "2  디저트       1.33       1.20\n",
       "3   음료       0.83       0.45\n",
       "4    차       0.48       0.41\n",
       "5   홍차       1.00       0.34"
      ]
     },
     "execution_count": 20,
     "metadata": {},
     "output_type": "execute_result"
    }
   ],
   "source": [
    "position_df"
   ]
  },
  {
   "cell_type": "code",
   "execution_count": 29,
   "metadata": {},
   "outputs": [
    {
     "data": {
      "image/png": "[encoded data removed]",
      "text/plain": [
       "<Figure size 640x480 with 1 Axes>"
      ]
     },
     "metadata": {},
     "output_type": "display_data"
    }
   ],
   "source": [
    "# 컬럼 이름 변경\n",
    "position_df.rename(columns={'타겟 제품 판매량': '타겟 제품', '일반 제품 판매량': '일반 제품'}, inplace=True)  # 타겟 제품: 메뉴판 상단에 위치한 제품\n",
    "\n",
    "# 카테고리 및 메뉴판 내 위치별 판매량을 시각화하기 위한 그룹 막대 그래프 생성\n",
    "position_df.plot(x='카테고리',\n",
    "                kind='bar',\n",
    "                stacked=False,\n",
    "                title='카테고리와 메뉴판 내 위치별 평균 판매량',  # 제목 설정\n",
    "                color=('tab:red','tab:green'),  # 색상 설정\n",
    "                xlabel='카테고리',  # x축 레이블 설정\n",
    "                ylabel='평균 판매량 (정규화)'  # y축 레이블 설정\n",
    "                )\n",
    "\n",
    "# x축 레이블 회전하기 (수평)\n",
    "plt.xticks(rotation=0)\n",
    "\n",
    "# 그래프 표시\n",
    "plt.show()"
   ]
  }
 ],
 "metadata": {
  "kernelspec": {
   "display_name": "Python 3",
   "language": "python",
   "name": "python3"
  },
  "language_info": {
   "codemirror_mode": {
    "name": "ipython",
    "version": 3
   },
   "file_extension": ".py",
   "mimetype": "text/x-python",
   "name": "python",
   "nbconvert_exporter": "python",
   "pygments_lexer": "ipython3",
   "version": "3.11.1"
  }
 },
 "nbformat": 4,
 "nbformat_minor": 2
}
